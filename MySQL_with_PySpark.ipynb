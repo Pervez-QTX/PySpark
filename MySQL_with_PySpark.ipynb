{
 "cells": [
  {
   "cell_type": "code",
   "execution_count": 12,
   "id": "983f1d34-f3ea-4792-b3fe-51d2104cd777",
   "metadata": {},
   "outputs": [
    {
     "name": "stdout",
     "output_type": "stream",
     "text": [
      "Collecting pyspark\n",
      "  Using cached pyspark-3.5.1.tar.gz (317.0 MB)\n",
      "  Preparing metadata (setup.py): started\n",
      "  Preparing metadata (setup.py): finished with status 'done'\n",
      "Collecting py4j==0.10.9.7 (from pyspark)\n",
      "  Using cached py4j-0.10.9.7-py2.py3-none-any.whl.metadata (1.5 kB)\n",
      "Using cached py4j-0.10.9.7-py2.py3-none-any.whl (200 kB)\n",
      "Building wheels for collected packages: pyspark\n",
      "  Building wheel for pyspark (setup.py): started\n",
      "  Building wheel for pyspark (setup.py): finished with status 'done'\n",
      "  Created wheel for pyspark: filename=pyspark-3.5.1-py2.py3-none-any.whl size=317488532 sha256=0c5de5b0205936b2564411acc9e768c74fd7955533d8b6af5a2f160bf5e0d855\n",
      "  Stored in directory: c:\\users\\shaikpervez\\appdata\\local\\pip\\cache\\wheels\\da\\78\\6d\\54350e0243f65f77dccf6ebe2ed5559faf6900559e904fb957\n",
      "Successfully built pyspark\n",
      "Installing collected packages: py4j, pyspark\n",
      "Successfully installed py4j-0.10.9.7 pyspark-3.5.1\n",
      "Note: you may need to restart the kernel to use updated packages.\n"
     ]
    }
   ],
   "source": [
    "pip install pyspark"
   ]
  },
  {
   "cell_type": "code",
   "execution_count": 8,
   "id": "03d2a1cd-1553-4423-b899-bf9396d7dcff",
   "metadata": {},
   "outputs": [
    {
     "name": "stdout",
     "output_type": "stream",
     "text": [
      "3.8.19 (default, Mar 20 2024, 19:55:45) [MSC v.1916 64 bit (AMD64)]\n"
     ]
    }
   ],
   "source": [
    "import sys\n",
    "print(sys.version)"
   ]
  },
  {
   "cell_type": "code",
   "execution_count": 137,
   "id": "6066de0d-9490-49b5-91e3-25d63c562da8",
   "metadata": {},
   "outputs": [],
   "source": [
    "import mysql.connector\n",
    "from pyspark.sql import SparkSession\n",
    "# export PYSPARK_PYTHON=C:/Users/ShaikPervez/AppData/Local/Programs/Python/Python38/python.exe"
   ]
  },
  {
   "cell_type": "code",
   "execution_count": 138,
   "id": "1d282756-48eb-4835-8ed9-f0b983ad9adb",
   "metadata": {},
   "outputs": [],
   "source": [
    "spark = SparkSession.builder.appName(\"MySQL Connection\").getOrCreate()"
   ]
  },
  {
   "cell_type": "code",
   "execution_count": 139,
   "id": "8a7edf8b-b153-4719-b573-d75a3f9031ed",
   "metadata": {},
   "outputs": [],
   "source": [
    "host=\"localhost\"\n",
    "port=3306\n",
    "database=\"Customers\""
   ]
  },
  {
   "cell_type": "code",
   "execution_count": 140,
   "id": "f29d1567-9faa-40af-b3c8-72025dc72c4e",
   "metadata": {},
   "outputs": [],
   "source": [
    "mysql_url=f\"jdbc:mysql://{host}:{port}/{database}\""
   ]
  },
  {
   "cell_type": "code",
   "execution_count": 141,
   "id": "2bf40a8e-d5bb-4d6e-b140-fd6b630b1652",
   "metadata": {},
   "outputs": [],
   "source": [
    "mysql_properties = { \"user\" :\"pervez\", \"password\" :\"password@123\", \"driver\":\"com.mysql.cj.jdbc.Driver\"}"
   ]
  },
  {
   "cell_type": "code",
   "execution_count": 142,
   "id": "08949e0f-c4e2-44bc-bd5e-ffa891248d6b",
   "metadata": {},
   "outputs": [],
   "source": [
    "table_name=\"Customers_data\""
   ]
  },
  {
   "cell_type": "code",
   "execution_count": 143,
   "id": "fa3fd808-48fc-438d-9afb-9cbdde60867d",
   "metadata": {},
   "outputs": [
    {
     "name": "stdout",
     "output_type": "stream",
     "text": [
      "JDBC URL :  jdbc:mysql://localhost:3306/Customers\n",
      "MySQL Properties :  {'user': 'pervez', 'password': 'password@123', 'driver': 'com.mysql.cj.jdbc.Driver'}\n"
     ]
    }
   ],
   "source": [
    "print(\"JDBC URL : \",mysql_url)\n",
    "print(\"MySQL Properties : \",mysql_properties)"
   ]
  },
  {
   "cell_type": "code",
   "execution_count": 253,
   "id": "84981d65-af70-419c-8a12-6b4a5fe2d090",
   "metadata": {},
   "outputs": [
    {
     "name": "stdout",
     "output_type": "stream",
     "text": [
      "+---+----------+----------+---+-----------------+----------------+------------+\n",
      "| id|      name|   address|age|Purchased_Product|Product_Category|Age_Category|\n",
      "+---+----------+----------+---+-----------------+----------------+------------+\n",
      "|  1|    Pervez|Tolichowki| 22|      Cricket bat|         Cricket|       Adult|\n",
      "|  5|Chaithanya|Masab Tank| 25|       Tennis bat|          Tennis|       Adult|\n",
      "|  3|      Hari|   Suncity| 19|          Wickets|         Cricket|       Adult|\n",
      "|  4|     Kiran|Gachibowli| 24|      Tennis ball|          Tennis|       Adult|\n",
      "|  2|    Prasad|  Shaikpet| 26|     Cricket ball|         Cricket|       Adult|\n",
      "|  6|     Lucky|      null| 19|          Wickets|            null|       Adult|\n",
      "|  7|      Anil|  Shaikpet| 14|      Tennis ball|          Tennis|       Adult|\n",
      "+---+----------+----------+---+-----------------+----------------+------------+\n",
      "\n"
     ]
    }
   ],
   "source": [
    "try :\n",
    "    df = spark.read.jdbc(url=mysql_url,table=table_name, properties=mysql_properties)\n",
    "    df.show()\n",
    "except Exception as e:\n",
    "    print(\"Error\",e)"
   ]
  },
  {
   "cell_type": "code",
   "execution_count": 145,
   "id": "07144eaf-a8a4-4e9f-a665-b4ce17960fce",
   "metadata": {},
   "outputs": [
    {
     "name": "stdout",
     "output_type": "stream",
     "text": [
      "root\n",
      " |-- id: long (nullable = true)\n",
      " |-- name: string (nullable = true)\n",
      " |-- address: string (nullable = true)\n",
      " |-- age: long (nullable = true)\n",
      " |-- Purchased_Product: string (nullable = true)\n",
      " |-- Product_Category: string (nullable = true)\n",
      "\n"
     ]
    }
   ],
   "source": [
    "df.printSchema()"
   ]
  },
  {
   "cell_type": "code",
   "execution_count": 146,
   "id": "0946bb13-8804-43b9-b802-a71663920264",
   "metadata": {},
   "outputs": [
    {
     "data": {
      "text/plain": [
       "DataFrame[id: bigint, name: string, address: string, age: bigint, Purchased_Product: string, Product_Category: string]"
      ]
     },
     "execution_count": 146,
     "metadata": {},
     "output_type": "execute_result"
    }
   ],
   "source": [
    "df"
   ]
  },
  {
   "cell_type": "code",
   "execution_count": 147,
   "id": "25af04ac-4ffd-4766-b19f-2acdd224c99b",
   "metadata": {},
   "outputs": [
    {
     "data": {
      "text/plain": [
       "pyspark.sql.dataframe.DataFrame"
      ]
     },
     "execution_count": 147,
     "metadata": {},
     "output_type": "execute_result"
    }
   ],
   "source": [
    "type(df)"
   ]
  },
  {
   "cell_type": "code",
   "execution_count": 148,
   "id": "116e0888-92e7-4f36-aeaf-150a0a2c9a61",
   "metadata": {},
   "outputs": [
    {
     "data": {
      "text/plain": [
       "['id', 'name', 'address', 'age', 'Purchased_Product', 'Product_Category']"
      ]
     },
     "execution_count": 148,
     "metadata": {},
     "output_type": "execute_result"
    }
   ],
   "source": [
    "df.columns"
   ]
  },
  {
   "cell_type": "code",
   "execution_count": 149,
   "id": "8ee06ec8-1a6a-4b34-92ba-c9c13b6dc9d4",
   "metadata": {},
   "outputs": [
    {
     "data": {
      "text/plain": [
       "[Row(id=1, name='Pervez', address='Tolichowki', age=22, Purchased_Product='Cricket bat', Product_Category='Cricket'),\n",
       " Row(id=3, name='Hari', address='Suncity', age=19, Purchased_Product='Wickets', Product_Category='Cricket'),\n",
       " Row(id=4, name='Kiran', address='Gachibowli', age=24, Purchased_Product='Tennis ball', Product_Category='Tennis')]"
      ]
     },
     "execution_count": 149,
     "metadata": {},
     "output_type": "execute_result"
    }
   ],
   "source": [
    "df.head(3)"
   ]
  },
  {
   "cell_type": "code",
   "execution_count": 150,
   "id": "1dff9674-ee02-4fc3-92be-9b6e86120752",
   "metadata": {},
   "outputs": [
    {
     "name": "stdout",
     "output_type": "stream",
     "text": [
      "+----------+---+\n",
      "|      name| id|\n",
      "+----------+---+\n",
      "|    Pervez|  1|\n",
      "|      Hari|  3|\n",
      "|     Kiran|  4|\n",
      "|    Prasad|  2|\n",
      "|Chaithanya|  5|\n",
      "+----------+---+\n",
      "\n"
     ]
    }
   ],
   "source": [
    "df.select(['name', 'id']).show()"
   ]
  },
  {
   "cell_type": "code",
   "execution_count": 151,
   "id": "43313fc2-e955-4df8-919b-8e01558167a7",
   "metadata": {},
   "outputs": [
    {
     "data": {
      "text/plain": [
       "[('id', 'bigint'),\n",
       " ('name', 'string'),\n",
       " ('address', 'string'),\n",
       " ('age', 'bigint'),\n",
       " ('Purchased_Product', 'string'),\n",
       " ('Product_Category', 'string')]"
      ]
     },
     "execution_count": 151,
     "metadata": {},
     "output_type": "execute_result"
    }
   ],
   "source": [
    "df.dtypes"
   ]
  },
  {
   "cell_type": "code",
   "execution_count": 152,
   "id": "778cf859-7afb-4979-9215-a57a20081cfa",
   "metadata": {},
   "outputs": [
    {
     "name": "stdout",
     "output_type": "stream",
     "text": [
      "+-------+------------------+----------+----------+------------------+-----------------+----------------+\n",
      "|summary|                id|      name|   address|               age|Purchased_Product|Product_Category|\n",
      "+-------+------------------+----------+----------+------------------+-----------------+----------------+\n",
      "|  count|                 5|         5|         5|                 5|                5|               5|\n",
      "|   mean|               3.0|      null|      null|              23.2|             null|            null|\n",
      "| stddev|1.5811388300841898|      null|      null|2.7748873851023212|             null|            null|\n",
      "|    min|                 1|Chaithanya|Gachibowli|                19|     Cricket ball|         Cricket|\n",
      "|    max|                 5|    Prasad|Tolichowki|                26|          Wickets|          Tennis|\n",
      "+-------+------------------+----------+----------+------------------+-----------------+----------------+\n",
      "\n"
     ]
    }
   ],
   "source": [
    "df.describe().show()"
   ]
  },
  {
   "cell_type": "code",
   "execution_count": 29,
   "id": "5f657d1d-a6ba-4b41-a5f7-c6d77b898a8b",
   "metadata": {},
   "outputs": [
    {
     "data": {
      "text/plain": [
       "['id', 'name', 'address', 'age', 'Purchased_Product']"
      ]
     },
     "execution_count": 29,
     "metadata": {},
     "output_type": "execute_result"
    }
   ],
   "source": [
    "df.columns"
   ]
  },
  {
   "cell_type": "code",
   "execution_count": 30,
   "id": "9ab98dbc-f6ef-477f-950b-8c798ccb8c2f",
   "metadata": {},
   "outputs": [],
   "source": [
    "from pyspark.sql import functions as F"
   ]
  },
  {
   "cell_type": "code",
   "execution_count": 31,
   "id": "0d588b42-6aee-477f-9e82-b69c32bdc68a",
   "metadata": {},
   "outputs": [],
   "source": [
    "from pyspark import RDD"
   ]
  },
  {
   "cell_type": "code",
   "execution_count": 58,
   "id": "9fb4baea-f17c-4cd1-b1ef-b79f90e1d3ae",
   "metadata": {},
   "outputs": [],
   "source": [
    "# Specify the column name from which you want to extract values\n",
    "column_name = \"Purchased_Product\"\n",
    "\n",
    "# Collect column values into a list\n",
    "column_values = df.select(column_name).rdd.flatMap(lambda x: x).collect()\n"
   ]
  },
  {
   "cell_type": "code",
   "execution_count": 52,
   "id": "3d1de89e-c45c-4433-8db8-8ec88ed2d8a3",
   "metadata": {},
   "outputs": [],
   "source": [
    "categ=[(i.split())[0] for i in column_values]"
   ]
  },
  {
   "cell_type": "code",
   "execution_count": 51,
   "id": "2590a246-bdb3-46a1-a22b-9ca07be007ba",
   "metadata": {},
   "outputs": [
    {
     "name": "stdout",
     "output_type": "stream",
     "text": [
      "['Cricket', 'Cricket', 'Wickets', 'Cricket', 'Cricket']\n"
     ]
    }
   ],
   "source": [
    "print(var)"
   ]
  },
  {
   "cell_type": "code",
   "execution_count": 34,
   "id": "f8f161c5-257d-4f5a-8756-e058e33991ed",
   "metadata": {},
   "outputs": [
    {
     "name": "stdout",
     "output_type": "stream",
     "text": [
      "+---+-------+----------+---+-----------------+\n",
      "| id|   name|   address|age|Purchased_Product|\n",
      "+---+-------+----------+---+-----------------+\n",
      "|  1| Pervez|Tolichowki| 22|      Cricket bat|\n",
      "|  2| Prasad|  Shaikpet| 26|     Cricket ball|\n",
      "|  3|   Hari|   Suncity| 19|          Wickets|\n",
      "|  4|Karthik|  Suryapet| 29|      Cricket bat|\n",
      "|  5|Bhargav| Khajaguda| 24|     Cricket ball|\n",
      "+---+-------+----------+---+-----------------+\n",
      "\n"
     ]
    }
   ],
   "source": [
    "df.show()"
   ]
  },
  {
   "cell_type": "code",
   "execution_count": 164,
   "id": "74066b96-07d8-4e6d-a375-5034125a1d44",
   "metadata": {},
   "outputs": [
    {
     "name": "stdout",
     "output_type": "stream",
     "text": [
      "root\n",
      " |-- id: integer (nullable = true)\n",
      " |-- name: string (nullable = true)\n",
      " |-- address: string (nullable = true)\n",
      " |-- age: integer (nullable = true)\n",
      " |-- Purchased Product: string (nullable = false)\n",
      "\n"
     ]
    }
   ],
   "source": [
    "df.printSchema()"
   ]
  },
  {
   "cell_type": "code",
   "execution_count": 60,
   "id": "38872cb7-5394-4494-8d97-a3ecec05818a",
   "metadata": {},
   "outputs": [],
   "source": [
    "from pyspark.sql.functions import when"
   ]
  },
  {
   "cell_type": "code",
   "execution_count": 67,
   "id": "a73bb76b-8a57-4016-9167-434bcfeb4990",
   "metadata": {},
   "outputs": [],
   "source": [
    "df = df.withColumn(\"Product_Category\",\n",
    "                   when(F.split(df[column_name], \"\\s+\")[0]==\"Wickets\",F.lit(\"Cricket\"))\n",
    "                   .otherwise(F.lit(\"Cricket\")))"
   ]
  },
  {
   "cell_type": "code",
   "execution_count": 68,
   "id": "49cec69c-68e9-4904-b57d-5b5e4b40f3c0",
   "metadata": {},
   "outputs": [
    {
     "name": "stdout",
     "output_type": "stream",
     "text": [
      "+---+-------+----------+---+-----------------+----------------+\n",
      "| id|   name|   address|age|Purchased_Product|Product_Category|\n",
      "+---+-------+----------+---+-----------------+----------------+\n",
      "|  1| Pervez|Tolichowki| 22|      Cricket bat|         Cricket|\n",
      "|  2| Prasad|  Shaikpet| 26|     Cricket ball|         Cricket|\n",
      "|  3|   Hari|   Suncity| 19|          Wickets|         Cricket|\n",
      "|  4|Karthik|  Suryapet| 29|      Cricket bat|         Cricket|\n",
      "|  5|Bhargav| Khajaguda| 24|     Cricket ball|         Cricket|\n",
      "+---+-------+----------+---+-----------------+----------------+\n",
      "\n"
     ]
    }
   ],
   "source": [
    "df.show()"
   ]
  },
  {
   "cell_type": "code",
   "execution_count": 167,
   "id": "94755e7f-bd03-461a-8a7e-8bbf397d7455",
   "metadata": {},
   "outputs": [
    {
     "data": {
      "text/plain": [
       "3"
      ]
     },
     "execution_count": 167,
     "metadata": {},
     "output_type": "execute_result"
    }
   ],
   "source": [
    "df.count()"
   ]
  },
  {
   "cell_type": "code",
   "execution_count": 153,
   "id": "83b79f20-a010-4c69-8fe4-ac0f8faa18ad",
   "metadata": {},
   "outputs": [],
   "source": [
    "from pyspark.sql.types import * "
   ]
  },
  {
   "cell_type": "code",
   "execution_count": 154,
   "id": "f44cf52b-477f-4a33-a98c-6fac91e0002a",
   "metadata": {},
   "outputs": [
    {
     "name": "stdout",
     "output_type": "stream",
     "text": [
      "+-----------------+---------+\n",
      "|Purchased_Product|count(id)|\n",
      "+-----------------+---------+\n",
      "|      Tennis ball|        1|\n",
      "|          Wickets|        1|\n",
      "|      Cricket bat|        1|\n",
      "|       Tennis bat|        1|\n",
      "|     Cricket ball|        1|\n",
      "+-----------------+---------+\n",
      "\n"
     ]
    }
   ],
   "source": [
    "new_df.groupby(\"Purchased_Product\").agg(F.countDistinct(\"id\")).show()"
   ]
  },
  {
   "cell_type": "code",
   "execution_count": 170,
   "id": "d6c86fc6-45b1-4a20-8334-e345918c2e1d",
   "metadata": {},
   "outputs": [],
   "source": [
    "df = df.withColumnRenamed(\"Purchased Product\",\"Purchased_Product\")"
   ]
  },
  {
   "cell_type": "code",
   "execution_count": 171,
   "id": "9ddaffff-7055-47e2-878b-602d44665b0b",
   "metadata": {},
   "outputs": [
    {
     "name": "stdout",
     "output_type": "stream",
     "text": [
      "+---+---------------+-------------------+---+-----------------+\n",
      "| id|           name|            address|age|Purchased_Product|\n",
      "+---+---------------+-------------------+---+-----------------+\n",
      "|  1|         Pervez|             Guntur| 22|     Cricket ball|\n",
      "|  2|       John Doe|  123 Main St, City| 21|      Cricket bat|\n",
      "|  3|Michael Johnson|789 Elm Rd, Village| 17|          Wickets|\n",
      "+---+---------------+-------------------+---+-----------------+\n",
      "\n"
     ]
    }
   ],
   "source": [
    "df.show()"
   ]
  },
  {
   "cell_type": "code",
   "execution_count": 94,
   "id": "5b732aec-d52d-4855-acaf-ce90c6e45434",
   "metadata": {},
   "outputs": [],
   "source": [
    "from pyspark.sql import Row"
   ]
  },
  {
   "cell_type": "code",
   "execution_count": 114,
   "id": "a7a5d73e-84a2-4be3-8cfc-437edef7984f",
   "metadata": {},
   "outputs": [],
   "source": [
    "new_row = Row(id=5, name='Chaithanya', address=\"Masab Tank\", age=25, Purchased_Product=\"Tennis bat\",Product_Category=\"Tennis\")"
   ]
  },
  {
   "cell_type": "code",
   "execution_count": 101,
   "id": "079d94a3-036f-437b-a86d-04df8770fbb5",
   "metadata": {},
   "outputs": [],
   "source": [
    "new_row = [Row(id=1, name='Pervez', address='Tolichowki', age=22, Purchased_Product='Cricket bat',Product_Category=\"Cricket\"),\n",
    " Row(id=2, name='Prasad', address='Shaikpet', age=26, Purchased_Product='Cricket ball',Product_Category=\"Cricket\"),\n",
    " Row(id=3, name='Hari', address='Suncity', age=19, Purchased_Product='Wickets',Product_Category=\"Cricket\"),Row(id=4, name='Kiran', address='Gachibowli', age=24, Purchased_Product='Tennis ball',Product_Category=\"Tennis\"),]"
   ]
  },
  {
   "cell_type": "code",
   "execution_count": 115,
   "id": "c5259209-a7e8-4eba-b5e5-2804d787e483",
   "metadata": {},
   "outputs": [],
   "source": [
    "df_new_row=spark.createDataFrame([new_row])"
   ]
  },
  {
   "cell_type": "code",
   "execution_count": 116,
   "id": "0ed811ea-2029-4b1c-9263-adc971440099",
   "metadata": {},
   "outputs": [
    {
     "name": "stdout",
     "output_type": "stream",
     "text": [
      "+---+----------+----------+---+-----------------+----------------+\n",
      "| id|      name|   address|age|Purchased_Product|Product_Category|\n",
      "+---+----------+----------+---+-----------------+----------------+\n",
      "|  5|Chaithanya|Masab Tank| 25|       Tennis bat|          Tennis|\n",
      "+---+----------+----------+---+-----------------+----------------+\n",
      "\n"
     ]
    }
   ],
   "source": [
    "df_new_row.show()"
   ]
  },
  {
   "cell_type": "code",
   "execution_count": 117,
   "id": "621af6d7-9f02-4cd6-a6aa-1e7f9c8674d2",
   "metadata": {},
   "outputs": [],
   "source": [
    "new_df=df_filtered.union(df_new_row)"
   ]
  },
  {
   "cell_type": "code",
   "execution_count": 118,
   "id": "53b5b7ef-a461-4171-9be2-19e24f7a464a",
   "metadata": {},
   "outputs": [
    {
     "name": "stdout",
     "output_type": "stream",
     "text": [
      "+---+----------+----------+---+-----------------+----------------+\n",
      "| id|      name|   address|age|Purchased_Product|Product_Category|\n",
      "+---+----------+----------+---+-----------------+----------------+\n",
      "|  1|    Pervez|Tolichowki| 22|      Cricket bat|         Cricket|\n",
      "|  2|    Prasad|  Shaikpet| 26|     Cricket ball|         Cricket|\n",
      "|  3|      Hari|   Suncity| 19|          Wickets|         Cricket|\n",
      "|  4|     Kiran|Gachibowli| 24|      Tennis ball|          Tennis|\n",
      "|  5|Chaithanya|Masab Tank| 25|       Tennis bat|          Tennis|\n",
      "+---+----------+----------+---+-----------------+----------------+\n",
      "\n"
     ]
    }
   ],
   "source": [
    "new_df.show()"
   ]
  },
  {
   "cell_type": "code",
   "execution_count": 112,
   "id": "1f7d760a-fcb7-42a3-9020-f978a85d4392",
   "metadata": {},
   "outputs": [],
   "source": [
    "df_filtered = new_df.filter(new_df[\"id\"] != 5)"
   ]
  },
  {
   "cell_type": "code",
   "execution_count": 113,
   "id": "c7a12be0-494a-4352-a119-0338e66c4306",
   "metadata": {},
   "outputs": [
    {
     "name": "stdout",
     "output_type": "stream",
     "text": [
      "+---+------+----------+---+-----------------+----------------+\n",
      "| id|  name|   address|age|Purchased_Product|Product_Category|\n",
      "+---+------+----------+---+-----------------+----------------+\n",
      "|  1|Pervez|Tolichowki| 22|      Cricket bat|         Cricket|\n",
      "|  2|Prasad|  Shaikpet| 26|     Cricket ball|         Cricket|\n",
      "|  3|  Hari|   Suncity| 19|          Wickets|         Cricket|\n",
      "|  4| Kiran|Gachibowli| 24|      Tennis ball|          Tennis|\n",
      "+---+------+----------+---+-----------------+----------------+\n",
      "\n"
     ]
    }
   ],
   "source": [
    "df_filtered.show()"
   ]
  },
  {
   "cell_type": "code",
   "execution_count": 253,
   "id": "1805028f-fb44-4420-b628-ffa904746000",
   "metadata": {},
   "outputs": [
    {
     "name": "stdout",
     "output_type": "stream",
     "text": [
      "root\n",
      " |-- id: long (nullable = true)\n",
      " |-- name: string (nullable = true)\n",
      " |-- address: string (nullable = true)\n",
      " |-- age: long (nullable = true)\n",
      " |-- Purchased_Product: string (nullable = true)\n",
      "\n"
     ]
    }
   ],
   "source": [
    "new_df.printSchema()"
   ]
  },
  {
   "cell_type": "code",
   "execution_count": 121,
   "id": "037193bd-87fc-459c-96de-f829e99156a9",
   "metadata": {},
   "outputs": [
    {
     "data": {
      "text/plain": [
       "5"
      ]
     },
     "execution_count": 121,
     "metadata": {},
     "output_type": "execute_result"
    }
   ],
   "source": [
    "new_df.count()"
   ]
  },
  {
   "cell_type": "code",
   "execution_count": 126,
   "id": "f607213b-181a-4951-ba5f-20d2d0cb0c30",
   "metadata": {},
   "outputs": [],
   "source": [
    "new_df.write.jdbc(url=mysql_url, table=\"Customers_data\", mode=\"overwrite\",properties=mysql_properties)"
   ]
  },
  {
   "cell_type": "code",
   "execution_count": 134,
   "id": "25eff976-3a41-4332-8336-9273c72f588a",
   "metadata": {},
   "outputs": [
    {
     "name": "stdout",
     "output_type": "stream",
     "text": [
      "+---+----------+----------+---+-----------------+----------------+\n",
      "| id|      name|   address|age|Purchased_Product|Product_Category|\n",
      "+---+----------+----------+---+-----------------+----------------+\n",
      "|  4|     Kiran|Gachibowli| 24|      Tennis ball|          Tennis|\n",
      "|  2|    Prasad|  Shaikpet| 26|     Cricket ball|         Cricket|\n",
      "|  1|    Pervez|Tolichowki| 22|      Cricket bat|         Cricket|\n",
      "|  3|      Hari|   Suncity| 19|          Wickets|         Cricket|\n",
      "|  5|Chaithanya|Masab Tank| 25|       Tennis bat|          Tennis|\n",
      "+---+----------+----------+---+-----------------+----------------+\n",
      "\n"
     ]
    }
   ],
   "source": [
    "df_no_duplicates_specific = new_df.dropDuplicates().select(\"id\",\"name\",\"address\",\"age\",\"Purchased_Product\",\"Product_Category\")\n",
    "df_no_duplicates_specific.show()"
   ]
  },
  {
   "cell_type": "code",
   "execution_count": 156,
   "id": "eb4290f5-d53a-4237-a77a-74dfd68aabd5",
   "metadata": {},
   "outputs": [
    {
     "name": "stdout",
     "output_type": "stream",
     "text": [
      "+---+----------+----------+---+-----------------+----------------+\n",
      "| id|      name|   address|age|Purchased_Product|Product_Category|\n",
      "+---+----------+----------+---+-----------------+----------------+\n",
      "|  1|    Pervez|Tolichowki| 22|      Cricket bat|         Cricket|\n",
      "|  3|      Hari|   Suncity| 19|          Wickets|         Cricket|\n",
      "|  4|     Kiran|Gachibowli| 24|      Tennis ball|          Tennis|\n",
      "|  2|    Prasad|  Shaikpet| 26|     Cricket ball|         Cricket|\n",
      "|  5|Chaithanya|Masab Tank| 25|       Tennis bat|          Tennis|\n",
      "+---+----------+----------+---+-----------------+----------------+\n",
      "\n"
     ]
    }
   ],
   "source": [
    "df.show()"
   ]
  },
  {
   "cell_type": "code",
   "execution_count": 158,
   "id": "78a76c32-9eeb-4edc-b8b9-3c805e8b5cfd",
   "metadata": {},
   "outputs": [
    {
     "name": "stdout",
     "output_type": "stream",
     "text": [
      "+-------+------------------+----------+----------+------------------+-----------------+----------------+\n",
      "|summary|                id|      name|   address|               age|Purchased_Product|Product_Category|\n",
      "+-------+------------------+----------+----------+------------------+-----------------+----------------+\n",
      "|  count|                 5|         5|         5|                 5|                5|               5|\n",
      "|   mean|               3.0|      null|      null|              23.2|             null|            null|\n",
      "| stddev|1.5811388300841898|      null|      null|2.7748873851023212|             null|            null|\n",
      "|    min|                 1|Chaithanya|Gachibowli|                19|     Cricket ball|         Cricket|\n",
      "|    max|                 5|    Prasad|Tolichowki|                26|          Wickets|          Tennis|\n",
      "+-------+------------------+----------+----------+------------------+-----------------+----------------+\n",
      "\n"
     ]
    }
   ],
   "source": [
    "df.describe().show()"
   ]
  },
  {
   "cell_type": "code",
   "execution_count": 159,
   "id": "c155ccf6-af62-476a-a629-292d8d1b5567",
   "metadata": {},
   "outputs": [
    {
     "name": "stdout",
     "output_type": "stream",
     "text": [
      "+---+----------+----------+---+-----------------+----------------+\n",
      "| id|      name|   address|age|Purchased_Product|Product_Category|\n",
      "+---+----------+----------+---+-----------------+----------------+\n",
      "|  1|    Pervez|Tolichowki| 22|      Cricket bat|         Cricket|\n",
      "|  3|      Hari|   Suncity| 19|          Wickets|         Cricket|\n",
      "|  4|     Kiran|Gachibowli| 24|      Tennis ball|          Tennis|\n",
      "|  2|    Prasad|  Shaikpet| 26|     Cricket ball|         Cricket|\n",
      "|  5|Chaithanya|Masab Tank| 25|       Tennis bat|          Tennis|\n",
      "+---+----------+----------+---+-----------------+----------------+\n",
      "\n"
     ]
    }
   ],
   "source": [
    "df.na.drop().show()"
   ]
  },
  {
   "cell_type": "code",
   "execution_count": 161,
   "id": "72b43e32-7869-468e-880a-59db6ae5f53e",
   "metadata": {},
   "outputs": [],
   "source": [
    "new_row = Row(id=6, name='Lucky', age=19, Purchased_Product='Wickets')"
   ]
  },
  {
   "cell_type": "code",
   "execution_count": 162,
   "id": "3b4680b1-e506-4248-aae1-f4613ad25184",
   "metadata": {},
   "outputs": [],
   "source": [
    "df_new_row=spark.createDataFrame([new_row])"
   ]
  },
  {
   "cell_type": "code",
   "execution_count": 163,
   "id": "a0b5fc4e-4771-4ae8-b8fe-c0f7f0511b47",
   "metadata": {},
   "outputs": [
    {
     "name": "stdout",
     "output_type": "stream",
     "text": [
      "+---+-----+---+-----------------+\n",
      "| id| name|age|Purchased_Product|\n",
      "+---+-----+---+-----------------+\n",
      "|  6|Lucky| 19|          Wickets|\n",
      "+---+-----+---+-----------------+\n",
      "\n"
     ]
    }
   ],
   "source": [
    "df_new_row.show()"
   ]
  },
  {
   "cell_type": "code",
   "execution_count": 169,
   "id": "6bb48928-c09e-4afb-9fb0-927e28770b8c",
   "metadata": {},
   "outputs": [
    {
     "name": "stdout",
     "output_type": "stream",
     "text": [
      "+----------------+---------+\n",
      "|Product_Category|count(id)|\n",
      "+----------------+---------+\n",
      "|          Tennis|        2|\n",
      "|         Cricket|        4|\n",
      "+----------------+---------+\n",
      "\n"
     ]
    }
   ],
   "source": [
    "df.groupby(\"Product_Category\").agg(F.countDistinct(\"id\")).show()"
   ]
  },
  {
   "cell_type": "code",
   "execution_count": 170,
   "id": "7f75c81e-cc9c-4025-948f-5fcfe88a4661",
   "metadata": {},
   "outputs": [
    {
     "name": "stdout",
     "output_type": "stream",
     "text": [
      "+---+----------+----------+---+-----------------+\n",
      "| id|      name|   address|age|Purchased_Product|\n",
      "+---+----------+----------+---+-----------------+\n",
      "|  1|    Pervez|Tolichowki| 22|      Cricket bat|\n",
      "|  3|      Hari|   Suncity| 19|          Wickets|\n",
      "|  4|     Kiran|Gachibowli| 24|      Tennis ball|\n",
      "|  2|    Prasad|  Shaikpet| 26|     Cricket ball|\n",
      "|  5|Chaithanya|Masab Tank| 25|       Tennis bat|\n",
      "|  6|     Lucky|      null| 19|          Wickets|\n",
      "+---+----------+----------+---+-----------------+\n",
      "\n"
     ]
    }
   ],
   "source": [
    "df.drop(\"Product_Category\").show()"
   ]
  },
  {
   "cell_type": "code",
   "execution_count": 176,
   "id": "98c72bda-a9b4-4a99-9224-25d44f5a5215",
   "metadata": {},
   "outputs": [
    {
     "name": "stdout",
     "output_type": "stream",
     "text": [
      "+---+----------+----------+---+-----------------+----------------+\n",
      "| id|      name|   address|age|Purchased_Product|Product_Category|\n",
      "+---+----------+----------+---+-----------------+----------------+\n",
      "|  1|    Pervez|Tolichowki| 22|      Cricket bat|         Cricket|\n",
      "|  3|      Hari|   Suncity| 19|          Wickets|         Cricket|\n",
      "|  4|     Kiran|Gachibowli| 24|      Tennis ball|          Tennis|\n",
      "|  2|    Prasad|  Shaikpet| 26|     Cricket ball|         Cricket|\n",
      "|  5|Chaithanya|Masab Tank| 25|       Tennis bat|          Tennis|\n",
      "+---+----------+----------+---+-----------------+----------------+\n",
      "\n"
     ]
    }
   ],
   "source": [
    "#how=any\n",
    "#how=all\n",
    "df.na.drop(\"any\").show()"
   ]
  },
  {
   "cell_type": "code",
   "execution_count": 177,
   "id": "09af2720-8b80-406c-be9d-b17c7b54b456",
   "metadata": {},
   "outputs": [
    {
     "name": "stdout",
     "output_type": "stream",
     "text": [
      "+---+----------+----------+---+-----------------+----------------+\n",
      "| id|      name|   address|age|Purchased_Product|Product_Category|\n",
      "+---+----------+----------+---+-----------------+----------------+\n",
      "|  1|    Pervez|Tolichowki| 22|      Cricket bat|         Cricket|\n",
      "|  3|      Hari|   Suncity| 19|          Wickets|         Cricket|\n",
      "|  4|     Kiran|Gachibowli| 24|      Tennis ball|          Tennis|\n",
      "|  2|    Prasad|  Shaikpet| 26|     Cricket ball|         Cricket|\n",
      "|  5|Chaithanya|Masab Tank| 25|       Tennis bat|          Tennis|\n",
      "|  6|     Lucky|      null| 19|          Wickets|         Cricket|\n",
      "+---+----------+----------+---+-----------------+----------------+\n",
      "\n"
     ]
    }
   ],
   "source": [
    "df.na.drop(\"all\").show()"
   ]
  },
  {
   "cell_type": "code",
   "execution_count": 182,
   "id": "991b2222-c509-4e42-92ac-5a9aeee0a3ff",
   "metadata": {},
   "outputs": [
    {
     "name": "stdout",
     "output_type": "stream",
     "text": [
      "+---+----------+----------+---+-----------------+----------------+\n",
      "| id|      name|   address|age|Purchased_Product|Product_Category|\n",
      "+---+----------+----------+---+-----------------+----------------+\n",
      "|  1|    Pervez|Tolichowki| 22|      Cricket bat|         Cricket|\n",
      "|  3|      Hari|   Suncity| 19|          Wickets|         Cricket|\n",
      "|  4|     Kiran|Gachibowli| 24|      Tennis ball|          Tennis|\n",
      "|  2|    Prasad|  Shaikpet| 26|     Cricket ball|         Cricket|\n",
      "|  5|Chaithanya|Masab Tank| 25|       Tennis bat|          Tennis|\n",
      "|  6|     Lucky|      null| 19|          Wickets|         Cricket|\n",
      "+---+----------+----------+---+-----------------+----------------+\n",
      "\n"
     ]
    }
   ],
   "source": [
    "#thres=2 means atleast 2 non-null values. It deletes all rows that doesnot have atleast 2 non-null values.\n",
    "df.na.drop(how=\"any\",thresh=5).show()"
   ]
  },
  {
   "cell_type": "code",
   "execution_count": 183,
   "id": "17533812-38e6-496f-8a8b-1c1b1ca41fb8",
   "metadata": {},
   "outputs": [],
   "source": [
    "from pyspark.sql.functions import udf"
   ]
  },
  {
   "cell_type": "code",
   "execution_count": 227,
   "id": "5c1f5b73-0aa2-4e73-9637-f95320bd39a3",
   "metadata": {},
   "outputs": [],
   "source": [
    "@udf(returnType=StringType())\n",
    "def mature(age):\n",
    "    if age<=12:\n",
    "        return \"Child\"\n",
    "    elif age<=18:\n",
    "        return \"Teenager\"\n",
    "    else:\n",
    "        return \"Adult\""
   ]
  },
  {
   "cell_type": "code",
   "execution_count": 247,
   "id": "227fb596-7a53-4bf6-addd-998d1fd9e880",
   "metadata": {},
   "outputs": [],
   "source": [
    "from pyspark.sql.functions import col\n",
    "new_df = df_new_row.withColumn(\"Age_Category\",mature(df_new_row[\"age\"]))"
   ]
  },
  {
   "cell_type": "code",
   "execution_count": 248,
   "id": "4e539951-c128-473e-9209-9cf475df6634",
   "metadata": {},
   "outputs": [
    {
     "name": "stdout",
     "output_type": "stream",
     "text": [
      "+---+----------+----------+---+-----------------+----------------+------------+\n",
      "| id|      name|   address|age|Purchased_Product|Product_Category|Age_Category|\n",
      "+---+----------+----------+---+-----------------+----------------+------------+\n",
      "|  1|    Pervez|Tolichowki| 22|      Cricket bat|         Cricket|       Adult|\n",
      "|  2|    Prasad|  Shaikpet| 26|     Cricket ball|         Cricket|       Adult|\n",
      "|  3|      Hari|   Suncity| 19|          Wickets|         Cricket|       Adult|\n",
      "|  4|     Kiran|Gachibowli| 24|      Tennis ball|          Tennis|       Adult|\n",
      "|  5|Chaithanya|Masab Tank| 25|       Tennis bat|          Tennis|       Adult|\n",
      "+---+----------+----------+---+-----------------+----------------+------------+\n",
      "\n"
     ]
    }
   ],
   "source": [
    "new_df.show()"
   ]
  },
  {
   "cell_type": "code",
   "execution_count": 230,
   "id": "7d1f9fc3-18e0-45ec-8950-0c95356c4475",
   "metadata": {},
   "outputs": [],
   "source": [
    "new_row = Row(id=7, name='Anil', address = \"Shaikpet\",age=14, Purchased_Product='Tennis ball',Product_Category=\"Tennis\")"
   ]
  },
  {
   "cell_type": "code",
   "execution_count": 231,
   "id": "502ea529-b780-44f9-9c95-a7284874599b",
   "metadata": {},
   "outputs": [],
   "source": [
    "df_new_row = spark.createDataFrame([new_row])"
   ]
  },
  {
   "cell_type": "code",
   "execution_count": 218,
   "id": "6107eff2-f415-4593-b479-b4015c401d6d",
   "metadata": {},
   "outputs": [
    {
     "name": "stdout",
     "output_type": "stream",
     "text": [
      "+---+----+--------+---+-----------------+----------------+\n",
      "| id|name| address|age|Purchased_Product|Product_Category|\n",
      "+---+----+--------+---+-----------------+----------------+\n",
      "|  7|Anil|Shaikpet| 14|      Tennis ball|          Tennis|\n",
      "+---+----+--------+---+-----------------+----------------+\n",
      "\n"
     ]
    }
   ],
   "source": [
    "df_new_row.show()"
   ]
  },
  {
   "cell_type": "code",
   "execution_count": 232,
   "id": "b59ac323-6912-4928-9859-755aa93490d5",
   "metadata": {},
   "outputs": [],
   "source": [
    "df_new = df_new_row.withColumn(\"Age_Category\", mature(df_new_row[\"age\"]))"
   ]
  },
  {
   "cell_type": "code",
   "execution_count": 221,
   "id": "e65ca71e-b240-4daa-9f89-6a57e74df273",
   "metadata": {},
   "outputs": [
    {
     "name": "stdout",
     "output_type": "stream",
     "text": [
      "+---+----+--------+---+-----------------+----------------+------------+\n",
      "| id|name| address|age|Purchased_Product|Product_Category|Age_Category|\n",
      "+---+----+--------+---+-----------------+----------------+------------+\n",
      "|  7|Anil|Shaikpet| 14|      Tennis ball|          Tennis|    Teenager|\n",
      "+---+----+--------+---+-----------------+----------------+------------+\n",
      "\n"
     ]
    }
   ],
   "source": [
    "df_new.show()"
   ]
  },
  {
   "cell_type": "code",
   "execution_count": 233,
   "id": "173f4a22-e83d-4924-88ee-6bf2fe08fc99",
   "metadata": {},
   "outputs": [],
   "source": [
    "df = df.union(df_new)"
   ]
  },
  {
   "cell_type": "code",
   "execution_count": 234,
   "id": "f47f140d-9e87-4fbc-9a4b-9e95ad3149d8",
   "metadata": {},
   "outputs": [
    {
     "name": "stdout",
     "output_type": "stream",
     "text": [
      "+---+----------+----------+---+-----------------+----------------+------------+\n",
      "| id|      name|   address|age|Purchased_Product|Product_Category|Age_Category|\n",
      "+---+----------+----------+---+-----------------+----------------+------------+\n",
      "|  1|    Pervez|Tolichowki| 22|      Cricket bat|         Cricket|       Adult|\n",
      "|  3|      Hari|   Suncity| 19|          Wickets|         Cricket|       Adult|\n",
      "|  4|     Kiran|Gachibowli| 24|      Tennis ball|          Tennis|       Adult|\n",
      "|  2|    Prasad|  Shaikpet| 26|     Cricket ball|         Cricket|       Adult|\n",
      "|  5|Chaithanya|Masab Tank| 25|       Tennis bat|          Tennis|       Adult|\n",
      "|  6|     Lucky|      null| 19|          Wickets|         Cricket|       Adult|\n",
      "|  7|      Anil|  Shaikpet| 14|      Tennis ball|          Tennis|    Teenager|\n",
      "+---+----------+----------+---+-----------------+----------------+------------+\n",
      "\n"
     ]
    }
   ],
   "source": [
    "df.show()"
   ]
  },
  {
   "cell_type": "code",
   "execution_count": 236,
   "id": "f26565c6-e341-40df-84b0-5a8297100a6a",
   "metadata": {},
   "outputs": [],
   "source": [
    "df.write.jdbc(url=mysql_url, table=\"Customers_data\", mode=\"overwrite\",properties=mysql_properties)"
   ]
  },
  {
   "cell_type": "code",
   "execution_count": 241,
   "id": "51774ceb-9f2f-4869-8e0c-41956b8695f4",
   "metadata": {},
   "outputs": [
    {
     "name": "stdout",
     "output_type": "stream",
     "text": [
      "+---+-----+--------+---+-----------------+----------------+------------+\n",
      "| id| name| address|age|Purchased_Product|Product_Category|Age_Category|\n",
      "+---+-----+--------+---+-----------------+----------------+------------+\n",
      "|  7| Anil|Shaikpet| 14|      Tennis ball|          Tennis|    Teenager|\n",
      "|  6|Lucky|    null| 19|          Wickets|            null|        null|\n",
      "+---+-----+--------+---+-----------------+----------------+------------+\n",
      "\n"
     ]
    }
   ],
   "source": [
    "df.show()"
   ]
  },
  {
   "cell_type": "code",
   "execution_count": 243,
   "id": "f9644ea4-5494-4a56-890c-d29289a322a9",
   "metadata": {},
   "outputs": [],
   "source": [
    "new_row = [Row(id=1, name='Pervez', address='Tolichowki', age=22, Purchased_Product='Cricket bat',Product_Category=\"Cricket\"),\n",
    " Row(id=2, name='Prasad', address='Shaikpet', age=26, Purchased_Product='Cricket ball',Product_Category=\"Cricket\"),\n",
    " Row(id=3, name='Hari', address='Suncity', age=19, Purchased_Product='Wickets',Product_Category=\"Cricket\"),Row(id=4, name='Kiran', address='Gachibowli', age=24, Purchased_Product='Tennis ball',Product_Category=\"Tennis\"),Row(id=5, name='Chaithanya', address=\"Masab Tank\", age=25, Purchased_Product=\"Tennis bat\",Product_Category=\"Tennis\")]"
   ]
  },
  {
   "cell_type": "code",
   "execution_count": 244,
   "id": "221dbb16-e277-442f-b9e2-0c40e402c771",
   "metadata": {},
   "outputs": [],
   "source": [
    "df_new_row=spark.createDataFrame(new_row)"
   ]
  },
  {
   "cell_type": "code",
   "execution_count": 249,
   "id": "f901bb1b-ecc6-4b20-87e2-84bcf3cb8b25",
   "metadata": {},
   "outputs": [],
   "source": [
    "naya_df=df.union(new_df)"
   ]
  },
  {
   "cell_type": "code",
   "execution_count": 250,
   "id": "6b47599b-4db9-4680-bd8d-5787bc1f4c09",
   "metadata": {},
   "outputs": [
    {
     "name": "stdout",
     "output_type": "stream",
     "text": [
      "+---+----------+----------+---+-----------------+----------------+------------+\n",
      "| id|      name|   address|age|Purchased_Product|Product_Category|Age_Category|\n",
      "+---+----------+----------+---+-----------------+----------------+------------+\n",
      "|  7|      Anil|  Shaikpet| 14|      Tennis ball|          Tennis|    Teenager|\n",
      "|  6|     Lucky|      null| 19|          Wickets|            null|        null|\n",
      "|  1|    Pervez|Tolichowki| 22|      Cricket bat|         Cricket|       Adult|\n",
      "|  2|    Prasad|  Shaikpet| 26|     Cricket ball|         Cricket|       Adult|\n",
      "|  3|      Hari|   Suncity| 19|          Wickets|         Cricket|       Adult|\n",
      "|  4|     Kiran|Gachibowli| 24|      Tennis ball|          Tennis|       Adult|\n",
      "|  5|Chaithanya|Masab Tank| 25|       Tennis bat|          Tennis|       Adult|\n",
      "+---+----------+----------+---+-----------------+----------------+------------+\n",
      "\n"
     ]
    }
   ],
   "source": [
    "naya_df.show()"
   ]
  },
  {
   "cell_type": "code",
   "execution_count": 251,
   "id": "becbe509-7d63-47bd-a1f7-e2cb0f1ac8d6",
   "metadata": {},
   "outputs": [],
   "source": [
    "naya_df.write.jdbc(url=mysql_url, table=\"Customers_data\", mode=\"overwrite\",properties=mysql_properties)"
   ]
  },
  {
   "cell_type": "code",
   "execution_count": 254,
   "id": "d93f98e9-a438-4ab9-88ed-28e36275e5a0",
   "metadata": {},
   "outputs": [
    {
     "name": "stdout",
     "output_type": "stream",
     "text": [
      "+---+----------+----------+---+-----------------+----------------+------------+\n",
      "| id|      name|   address|age|Purchased_Product|Product_Category|Age_Category|\n",
      "+---+----------+----------+---+-----------------+----------------+------------+\n",
      "|  1|    Pervez|Tolichowki| 22|      Cricket bat|         Cricket|       Adult|\n",
      "|  5|Chaithanya|Masab Tank| 25|       Tennis bat|          Tennis|       Adult|\n",
      "|  3|      Hari|   Suncity| 19|          Wickets|         Cricket|       Adult|\n",
      "|  4|     Kiran|Gachibowli| 24|      Tennis ball|          Tennis|       Adult|\n",
      "|  2|    Prasad|  Shaikpet| 26|     Cricket ball|         Cricket|       Adult|\n",
      "|  6|     Lucky|      null| 19|          Wickets|            null|       Adult|\n",
      "|  7|      Anil|  Shaikpet| 14|      Tennis ball|          Tennis|       Adult|\n",
      "+---+----------+----------+---+-----------------+----------------+------------+\n",
      "\n"
     ]
    }
   ],
   "source": [
    "df.show()"
   ]
  },
  {
   "cell_type": "code",
   "execution_count": 263,
   "id": "4258bf5e-41ae-455d-9b21-c9b9e8023ad9",
   "metadata": {},
   "outputs": [
    {
     "name": "stdout",
     "output_type": "stream",
     "text": [
      "+---+----------+----------+---+-----------------+----------------+------------+\n",
      "| id|      name|   address|age|Purchased_Product|Product_Category|Age_Category|\n",
      "+---+----------+----------+---+-----------------+----------------+------------+\n",
      "|  1|    Pervez|Tolichowki| 22|      Cricket bat|         Cricket|       Adult|\n",
      "|  5|Chaithanya|Masab Tank| 25|       Tennis bat|          Tennis|       Adult|\n",
      "|  3|      Hari|   Suncity| 19|          Wickets|         Cricket|       Adult|\n",
      "|  4|     Kiran|Gachibowli| 24|      Tennis ball|          Tennis|       Adult|\n",
      "|  2|    Prasad|  Shaikpet| 26|     Cricket ball|         Cricket|       Adult|\n",
      "|  7|      Anil|  Shaikpet| 14|      Tennis ball|          Tennis|       Adult|\n",
      "+---+----------+----------+---+-----------------+----------------+------------+\n",
      "\n"
     ]
    }
   ],
   "source": [
    "df.na.drop(subset=\"address\").show()"
   ]
  },
  {
   "cell_type": "code",
   "execution_count": 262,
   "id": "88015663-28e2-4771-a04a-a80785a87815",
   "metadata": {},
   "outputs": [
    {
     "name": "stdout",
     "output_type": "stream",
     "text": [
      "+---+----------+----------+---+-----------------+----------------+------------+\n",
      "| id|      name|   address|age|Purchased_Product|Product_Category|Age_Category|\n",
      "+---+----------+----------+---+-----------------+----------------+------------+\n",
      "|  1|    Pervez|Tolichowki| 22|      Cricket bat|         Cricket|       Adult|\n",
      "|  5|Chaithanya|Masab Tank| 25|       Tennis bat|          Tennis|       Adult|\n",
      "|  3|      Hari|   Suncity| 19|          Wickets|         Cricket|       Adult|\n",
      "|  4|     Kiran|Gachibowli| 24|      Tennis ball|          Tennis|       Adult|\n",
      "|  2|    Prasad|  Shaikpet| 26|     Cricket ball|         Cricket|       Adult|\n",
      "|  7|      Anil|  Shaikpet| 14|      Tennis ball|          Tennis|       Adult|\n",
      "+---+----------+----------+---+-----------------+----------------+------------+\n",
      "\n"
     ]
    }
   ],
   "source": [
    "df.na.drop(thresh=6).show()"
   ]
  },
  {
   "cell_type": "code",
   "execution_count": 264,
   "id": "4440aa1d-fc6d-4470-a0c1-b3a8f1610066",
   "metadata": {},
   "outputs": [
    {
     "name": "stdout",
     "output_type": "stream",
     "text": [
      "+---+----------+----------------+---+-----------------+----------------+------------+\n",
      "| id|      name|         address|age|Purchased_Product|Product_Category|Age_Category|\n",
      "+---+----------+----------------+---+-----------------+----------------+------------+\n",
      "|  1|    Pervez|      Tolichowki| 22|      Cricket bat|         Cricket|       Adult|\n",
      "|  5|Chaithanya|      Masab Tank| 25|       Tennis bat|          Tennis|       Adult|\n",
      "|  3|      Hari|         Suncity| 19|          Wickets|         Cricket|       Adult|\n",
      "|  4|     Kiran|      Gachibowli| 24|      Tennis ball|          Tennis|       Adult|\n",
      "|  2|    Prasad|        Shaikpet| 26|     Cricket ball|         Cricket|       Adult|\n",
      "|  6|     Lucky|Value is Missing| 19|          Wickets|Value is Missing|       Adult|\n",
      "|  7|      Anil|        Shaikpet| 14|      Tennis ball|          Tennis|       Adult|\n",
      "+---+----------+----------------+---+-----------------+----------------+------------+\n",
      "\n"
     ]
    }
   ],
   "source": [
    "df.na.fill(\"Value is Missing\").show()"
   ]
  },
  {
   "cell_type": "code",
   "execution_count": 265,
   "id": "dc14997f-6d43-4c1f-924b-4bdb865941bc",
   "metadata": {},
   "outputs": [
    {
     "name": "stdout",
     "output_type": "stream",
     "text": [
      "+---+----------+----------------+---+-----------------+----------------+------------+\n",
      "| id|      name|         address|age|Purchased_Product|Product_Category|Age_Category|\n",
      "+---+----------+----------------+---+-----------------+----------------+------------+\n",
      "|  1|    Pervez|      Tolichowki| 22|      Cricket bat|         Cricket|       Adult|\n",
      "|  5|Chaithanya|      Masab Tank| 25|       Tennis bat|          Tennis|       Adult|\n",
      "|  3|      Hari|         Suncity| 19|          Wickets|         Cricket|       Adult|\n",
      "|  4|     Kiran|      Gachibowli| 24|      Tennis ball|          Tennis|       Adult|\n",
      "|  2|    Prasad|        Shaikpet| 26|     Cricket ball|         Cricket|       Adult|\n",
      "|  6|     Lucky|Value is Missing| 19|          Wickets|            null|       Adult|\n",
      "|  7|      Anil|        Shaikpet| 14|      Tennis ball|          Tennis|       Adult|\n",
      "+---+----------+----------------+---+-----------------+----------------+------------+\n",
      "\n"
     ]
    }
   ],
   "source": [
    "df.na.fill(\"Value is Missing\",\"address\").show()"
   ]
  },
  {
   "cell_type": "code",
   "execution_count": 268,
   "id": "a22990c9-f295-47e1-a706-5bfd1af65ac8",
   "metadata": {},
   "outputs": [],
   "source": [
    "from pyspark.ml.feature import Imputer"
   ]
  },
  {
   "cell_type": "code",
   "execution_count": 275,
   "id": "fe9c3627-43b3-4fa9-95b8-c79a870574b7",
   "metadata": {},
   "outputs": [],
   "source": [
    "# imputer = Imputer(inputCols=[\"address\",\"Product_Category\"],outputCols=[\"{}_imputed\".format(c) for c in [\"address\",\"Prduct_Category\"]]).setStrategy(\"mode\")\n",
    "# imputer.fit(df).transform(df).show()\n",
    "# Works only for Numerical Columns"
   ]
  },
  {
   "cell_type": "code",
   "execution_count": 276,
   "id": "78324f3d-e71b-4f6a-ae72-375261f34e78",
   "metadata": {},
   "outputs": [
    {
     "name": "stdout",
     "output_type": "stream",
     "text": [
      "+-------+-----------------+------+----------+------------------+-----------------+----------------+------------+\n",
      "|summary|               id|  name|   address|               age|Purchased_Product|Product_Category|Age_Category|\n",
      "+-------+-----------------+------+----------+------------------+-----------------+----------------+------------+\n",
      "|  count|                7|     7|         6|                 7|                7|               6|           7|\n",
      "|   mean|              4.0|  null|      null|21.285714285714285|             null|            null|        null|\n",
      "| stddev|2.160246899469287|  null|      null|  4.23140188409963|             null|            null|        null|\n",
      "|    min|                1|  Anil|Gachibowli|                14|     Cricket ball|         Cricket|       Adult|\n",
      "|    max|                7|Prasad|Tolichowki|                26|          Wickets|          Tennis|       Adult|\n",
      "+-------+-----------------+------+----------+------------------+-----------------+----------------+------------+\n",
      "\n"
     ]
    }
   ],
   "source": [
    "df.describe().show()"
   ]
  },
  {
   "cell_type": "code",
   "execution_count": 277,
   "id": "4b0877cc-a77e-4a98-bb2a-f895184b8aa7",
   "metadata": {},
   "outputs": [
    {
     "name": "stdout",
     "output_type": "stream",
     "text": [
      "+---+----------+----------+---+-----------------+----------------+------------+\n",
      "| id|      name|   address|age|Purchased_Product|Product_Category|Age_Category|\n",
      "+---+----------+----------+---+-----------------+----------------+------------+\n",
      "|  1|    Pervez|Tolichowki| 22|      Cricket bat|         Cricket|       Adult|\n",
      "|  5|Chaithanya|Masab Tank| 25|       Tennis bat|          Tennis|       Adult|\n",
      "|  3|      Hari|   Suncity| 19|          Wickets|         Cricket|       Adult|\n",
      "|  4|     Kiran|Gachibowli| 24|      Tennis ball|          Tennis|       Adult|\n",
      "|  2|    Prasad|  Shaikpet| 26|     Cricket ball|         Cricket|       Adult|\n",
      "|  6|     Lucky|Gachibowli| 19|          Wickets|         Cricket|       Adult|\n",
      "|  7|      Anil|  Shaikpet| 14|      Tennis ball|          Tennis|       Adult|\n",
      "+---+----------+----------+---+-----------------+----------------+------------+\n",
      "\n"
     ]
    }
   ],
   "source": [
    "most_freq_address = df.groupBy().agg({\"address\": \"min\"}).collect()[0][0]\n",
    "most_freq_product_category = df.groupBy().agg({\"Product_Category\": \"min\"}).collect()[0][0]\n",
    "\n",
    "df.fillna({\"address\": most_freq_address, \"Product_Category\": most_freq_product_category}).show()"
   ]
  },
  {
   "cell_type": "code",
   "execution_count": null,
   "id": "5a5f621a-229b-4197-aa0f-836d7aa1d783",
   "metadata": {},
   "outputs": [],
   "source": []
  }
 ],
 "metadata": {
  "kernelspec": {
   "display_name": "Python 3.8 (py38)",
   "language": "python",
   "name": "py38"
  },
  "language_info": {
   "codemirror_mode": {
    "name": "ipython",
    "version": 3
   },
   "file_extension": ".py",
   "mimetype": "text/x-python",
   "name": "python",
   "nbconvert_exporter": "python",
   "pygments_lexer": "ipython3",
   "version": "3.8.19"
  }
 },
 "nbformat": 4,
 "nbformat_minor": 5
}
